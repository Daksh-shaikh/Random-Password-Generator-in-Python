{
 "cells": [
  {
   "cell_type": "markdown",
   "id": "8646e017",
   "metadata": {},
   "source": [
    "# Random Password Generator"
   ]
  },
  {
   "cell_type": "code",
   "execution_count": null,
   "id": "fd81e0ff",
   "metadata": {},
   "outputs": [],
   "source": [
    "**Random Password Generator**\n",
    "\n",
    "This project is a simple Python script that generates random passwords of a specified length. \n",
    "It uses a combination of letters (both lowercase and uppercase), digits, and punctuation characters to create diverse \n",
    "and secure passwords.\n",
    "\n",
    "The script provides a function called `generate_password` that takes a parameter `length` and generates a password of \n",
    "the specified length. The `random.choice` function is used to select random characters from a pool of available characters,\n",
    "and the `join` function concatenates these characters into a single string, resulting in the generated password.\n",
    "\n",
    "To use the password generator, run the script in a Python environment and enter the desired length of the password when \n",
    "prompted. The script will generate a random password of the specified length and display it on the console.\n",
    "\n",
    "This project can be useful for enhancing account security by creating strong and unique passwords for online accounts. It \n",
    "can also be integrated into larger applications or systems that require password generation functionality. Additionally,it \n",
    "serves as a practical example for learning about randomization, string manipulation, and basic Python programming concepts.\n",
    "\n",
    "Feel free to modify the code or customize the project to suit your specific requirements and use cases."
   ]
  },
  {
   "cell_type": "code",
   "execution_count": 6,
   "id": "3a623b31",
   "metadata": {},
   "outputs": [
    {
     "name": "stdout",
     "output_type": "stream",
     "text": [
      "--- Random Password Generator ---\n",
      "Enter the length of the password: 9\n",
      "Generated Password: L7Na1n8&2\n"
     ]
    }
   ],
   "source": [
    "import random    # Generate random characters  \n",
    "import string    # Provides predefined string like letters, digits and punctuations \n",
    "\n",
    "\n",
    "# defining a function to create random password \n",
    "def generate_password(length):\n",
    "    characters = string.ascii_letters + string.digits + string.punctuation\n",
    "    password = ''.join(random.choice(characters) for _ in range(length))\n",
    "    return password\n",
    "\n",
    "print(\"--- Random Password Generator ---\")\n",
    "\n",
    "# taking the input from user\n",
    "length = int(input(\"Enter the length of the password: \"))\n",
    "\n",
    "# calling the function\n",
    "password = generate_password(length)\n",
    "\n",
    "print(\"Generated Password:\", password)\n",
    "\n"
   ]
  }
 ],
 "metadata": {
  "kernelspec": {
   "display_name": "Python 3 (ipykernel)",
   "language": "python",
   "name": "python3"
  },
  "language_info": {
   "codemirror_mode": {
    "name": "ipython",
    "version": 3
   },
   "file_extension": ".py",
   "mimetype": "text/x-python",
   "name": "python",
   "nbconvert_exporter": "python",
   "pygments_lexer": "ipython3",
   "version": "3.9.13"
  }
 },
 "nbformat": 4,
 "nbformat_minor": 5
}
